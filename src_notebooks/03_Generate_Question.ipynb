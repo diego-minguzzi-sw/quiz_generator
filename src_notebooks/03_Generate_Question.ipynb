{
 "cells": [
  {
   "cell_type": "markdown",
   "id": "0b8dc456-0910-4f8e-a6d6-42ce9838254d",
   "metadata": {},
   "source": [
    "# Generate a Question on the document"
   ]
  },
  {
   "cell_type": "code",
   "execution_count": 21,
   "id": "cacfd55a-8de4-460c-9cbb-63e113dad0a0",
   "metadata": {},
   "outputs": [
    {
     "name": "stdout",
     "output_type": "stream",
     "text": [
      "StorageEnvVar:/home/minguzzi/repo/quiz_generator/storage\n"
     ]
    }
   ],
   "source": [
    "import data_formats\n",
    "import entities\n",
    "\n",
    "import copy\n",
    "import json\n",
    "import os\n",
    "import pickle\n",
    "import pprint\n",
    "import random\n",
    "\n",
    "StorageEnvVarName = 'STORAGE_ROOT'\n",
    "assert StorageEnvVarName in os.environ\n",
    "StorageEnvVar= os.environ[StorageEnvVarName]\n",
    "print(f'StorageEnvVar:{StorageEnvVar}')"
   ]
  },
  {
   "cell_type": "code",
   "execution_count": 2,
   "id": "2b9935e6-c55d-4bdb-8f53-d9bfed1ff99b",
   "metadata": {},
   "outputs": [
    {
     "data": {
      "text/plain": [
       "61"
      ]
     },
     "execution_count": 2,
     "metadata": {},
     "output_type": "execute_result"
    }
   ],
   "source": [
    "document = entities.Document()\n",
    "\n",
    "documentFile= os.path.join( StorageEnvVar,'document.pickle' )\n",
    "with open(documentFile, 'rb') as file:\n",
    "    document = pickle.load(file)\n",
    "\n",
    "# Now `data` holds the original data structure\n",
    "document.numArticles"
   ]
  },
  {
   "cell_type": "code",
   "execution_count": 4,
   "id": "b6e4118e-001d-4b89-b9e7-d5aa38b0f33a",
   "metadata": {},
   "outputs": [
    {
     "name": "stdout",
     "output_type": "stream",
     "text": [
      "2\n",
      "Causa di Morte\n",
      "1. A norma dell'art. 103 T.U. Leggi Sanitarie, R.D. 27.7.1934 n. 1265, i medici debbono per ogni caso di morte di persona da loro assistita denunciare al Sindaco la malattia che, a loro giudizio, ne sarebbe stata la causa. \n",
      "\n",
      "2. Nel caso di morte per malattia infettiva compresa nell'apposito elenco pubblicato dal Ministero della Sanità, il Comune deve darne informazione immediatamente alla A.S.L. dove è avvenuto il decesso.\n",
      "\n",
      "3. Nel caso di decesso senza assistenza medica la denuncia della presunta causa di morte è fatta dal medico necroscopo.\n",
      "\n",
      "4. I medici incaricati di eseguire autopsie disposte dall'autorità giudiziaria o per riscontro diagnostico sono ugualmente tenuti all'obbligo di denunciare la causa della morte, osservate le disposizioni contenute negli artt. 39 e 45 del D.P.R. 10.9.1990, n. 285.\n",
      "\n",
      "5. In tutti i casi previsti dai commi precedenti la denuncia della causa di morte deve essere fatta entro ventiquattro ore dall'accertamento del decesso su apposita scheda di morte stabilita dal Ministero della Sanità d'intesa con l'Istituto Nazionale di Statistica.\n",
      "\n",
      "6. Fermo restando per i sanitari l'obbligo di cui all'art. 365 del codice penale, ove dalla scheda di morte risulti o sorga comunque il sospetto che la morte sia dovuta a reato, il Sindaco deve darne immediata comunicazione all’autorità giudiziaria ed a quella di pubblica sicurezza.\n"
     ]
    }
   ],
   "source": [
    "if document.numArticles>0 :\n",
    "    indxArticle = random.randint(0, document.numArticles-1)\n",
    "    print(indxArticle)\n",
    "    article = document.article(indxArticle)\n",
    "    print(article.title)\n",
    "    print(article.text)\n",
    "    "
   ]
  },
  {
   "cell_type": "markdown",
   "id": "45a0de9e-1a10-4dd5-a404-bd91560a1276",
   "metadata": {},
   "source": [
    "Sei un esperto in grado di generare domande a risposta chiusa su un regolamento comunale, per una persona la quale deve sostenere un esame di ammissione per una selezione a scopo assunzione.\n",
    "L'esame richiede la conoscenza degli articoli del regolamento.  Ogni articolo ha un titolo ed un testo.\n",
    "Dato un articolo, genera un risultato composto da:\n",
    ". una domanda \n",
    ". possibili risposte a tale domanda, in cui la prima risposta è giusta, le altre sono sbagliate.  \n",
    ". la spiegazione del perchè la prima risposta è vera, considerando il testo dell'articolo.\n",
    "Le risposte sbagliate contengono informazioni plausibili ma in contrasto o non consistenti con quanto scritto nell'articolo.\n",
    "\n",
    "Il risultato deve essere formattato in JSon, come di seguito.\n",
    "Il campo question contiene la domanda, il campo answers contiene la lista delle possibili risposte.\n",
    "Genera sempre tre possibili risposte alla domanda.\n",
    "\n",
    "Esempio del formato della risposta:\n",
    "\n",
    "{\n",
    "  \"question\": \"Domanda\",\n",
    "  \"answers\": [\"Risposta 1\", \"Risposta 2\", \"Risposta 3\"],\n",
    "  \"explanation\": \"Spiegazione del perche' la prima risposta è vera.\"\n",
    "}\n",
    "\n",
    "\n",
    "Nel formulare la domanda e le risposte, utilizza solamente il titolo e testo dell'articolo, non introdurre altre informazioni estranee ad esso o inventate. Genera solamente Json valido.\n",
    "\n",
    "Esempio di articolo:\n",
    "Titolo: UBICAZIONE E ORARI DEI CIMITERI\n",
    "\n",
    "Testo: Il Comune ha inoltre Cimiteri Speciali nelle seguenti frazioni: - Casale Popolo, Terranova, Santa Maria del Tempio, San Germano, Torcello-Rolasco, Roncaglia.  L'orario di apertura al pubblico dei cimiteri viene determinato dal Sindaco a seconda delle stagioni. Nei giorni di neve il cimitero resta chiuso ai visitatori, sino a quando si saranno praticati gli opportuni passaggi ed accessi.\n",
    " \n",
    "Esempio di risposta:\n",
    "{\n",
    "  \"question\": \"Chi decide l'orario di apertura al pubblico dei cimiteri?\",\n",
    "  \"answers\": [\"Il Sindaco, inoltre l'orario dipende dalle stagioni\", \"Il consiglio comunale ad ogni inizio anno, riunito in seduta plenaria\", \"L'assessore ai lavori pubblici, tramite referendum che coinvolge i cittadini\"],\n",
    "  \"explanation\":\"L'articolo specifica che l'orario di apertura al pubblico dei cimiteri viene determinato dal Sindaco a seconda delle stagioni.\"\n",
    "}\n",
    "\n",
    "Di seguito l'articolo su cui devi generare il risultato:\n",
    "---\n",
    "\n",
    "Causa di Morte\n",
    "1. A norma dell'art. 103 T.U. Leggi Sanitarie, R.D. 27.7.1934 n. 1265, i medici debbono per ogni caso di morte di persona da loro assistita denunciare al Sindaco la malattia che, a loro giudizio, ne sarebbe stata la causa. \n",
    "\n",
    "2. Nel caso di morte per malattia infettiva compresa nell'apposito elenco pubblicato dal Ministero della Sanità, il Comune deve darne informazione immediatamente alla A.S.L. dove è avvenuto il decesso.\n",
    "\n",
    "3. Nel caso di decesso senza assistenza medica la denuncia della presunta causa di morte è fatta dal medico necroscopo.\n",
    "\n",
    "4. I medici incaricati di eseguire autopsie disposte dall'autorità giudiziaria o per riscontro diagnostico sono ugualmente tenuti all'obbligo di denunciare la causa della morte, osservate le disposizioni contenute negli artt. 39 e 45 del D.P.R. 10.9.1990, n. 285.\n",
    "\n",
    "5. In tutti i casi previsti dai commi precedenti la denuncia della causa di morte deve essere fatta entro ventiquattro ore dall'accertamento del decesso su apposita scheda di morte stabilita dal Ministero della Sanità d'intesa con l'Istituto Nazionale di Statistica.\n",
    "\n",
    "6. Fermo restando per i sanitari l'obbligo di cui all'art. 365 del codice penale, ove dalla scheda di morte risulti o sorga comunque il sospetto che la morte sia dovuta a reato, il Sindaco deve darne immediata comunicazione all’autorità giudiziaria ed a quella di pubblica sicurezza."
   ]
  },
  {
   "cell_type": "code",
   "execution_count": 18,
   "id": "ac864ddb-c875-418d-b6d8-ff445199a368",
   "metadata": {},
   "outputs": [],
   "source": [
    "promptTemplate=\"\"\"\n",
    "Sei un esperto in grado di generare domande a risposta chiusa su un regolamento comunale, per una persona la quale deve sostenere un esame di ammissione per una selezione a scopo assunzione.\n",
    "L'esame richiede la conoscenza degli articoli del regolamento.  Ogni articolo ha un titolo ed un testo.\n",
    "Dato un articolo, genera un risultato composto da:\n",
    ". una domanda \n",
    ". possibili risposte a tale domanda, in cui la prima risposta è giusta, le altre sono sbagliate.  \n",
    ". la spiegazione del perchè la prima risposta è vera, considerando il testo dell'articolo.\n",
    "Le risposte sbagliate contengono informazioni plausibili ma in contrasto o non consistenti con quanto scritto nell'articolo.\n",
    "\n",
    "Il risultato deve essere formattato in JSon, come di seguito.\n",
    "Il campo question contiene la domanda, il campo answers contiene la lista delle possibili risposte.\n",
    "Genera sempre tre possibili risposte alla domanda.\n",
    "\n",
    "Esempio del formato della risposta:\n",
    "\n",
    "{\n",
    "  \"question\": \"Domanda\",\n",
    "  \"answers\": [\"Risposta 1\", \"Risposta 2\", \"Risposta 3\"],\n",
    "  \"explanation\": \"Spiegazione del perche' la prima risposta è vera.\"\n",
    "}\n",
    "\n",
    "\n",
    "Nel formulare la domanda e le risposte, utilizza solamente il titolo e testo dell'articolo, non introdurre altre informazioni estranee ad esso o inventate. Genera solamente Json valido.\n",
    "\n",
    "Esempio di articolo:\n",
    "TITOLO: \n",
    "UBICAZIONE E ORARI DEI CIMITERI\n",
    "\n",
    "TESTO: \n",
    "Il Comune ha inoltre Cimiteri Speciali nelle seguenti frazioni: - Casale Popolo, Terranova, Santa Maria del Tempio, San Germano, Torcello-Rolasco, Roncaglia.  L'orario di apertura al pubblico dei cimiteri viene determinato dal Sindaco a seconda delle stagioni. Nei giorni di neve il cimitero resta chiuso ai visitatori, sino a quando si saranno praticati gli opportuni passaggi ed accessi.\n",
    " \n",
    "Esempio di risposta:\n",
    "{\n",
    "  \"question\": \"Chi decide l'orario di apertura al pubblico dei cimiteri?\",\n",
    "  \"answers\": [\"Il Sindaco, inoltre l'orario dipende dalle stagioni\", \"Il consiglio comunale ad ogni inizio anno, riunito in seduta plenaria\", \"L'assessore ai lavori pubblici, tramite referendum che coinvolge i cittadini\"],\n",
    "  \"explanation\":\"L'articolo specifica che l'orario di apertura al pubblico dei cimiteri viene determinato dal Sindaco a seconda delle stagioni.\"\n",
    "}\n",
    "\n",
    "Di seguito l'articolo su cui devi generare il risultato:\n",
    "---\n",
    "\"\"\""
   ]
  },
  {
   "cell_type": "code",
   "execution_count": 19,
   "id": "15316778-daa5-4cee-a3f2-e1d1d0831ec1",
   "metadata": {},
   "outputs": [
    {
     "name": "stdout",
     "output_type": "stream",
     "text": [
      "\n",
      "Sei un esperto in grado di generare domande a risposta chiusa su un regolamento comunale, per una persona la quale deve sostenere un esame di ammissione per una selezione a scopo assunzione.\n",
      "L'esame richiede la conoscenza degli articoli del regolamento.  Ogni articolo ha un titolo ed un testo.\n",
      "Dato un articolo, genera un risultato composto da:\n",
      ". una domanda \n",
      ". possibili risposte a tale domanda, in cui la prima risposta è giusta, le altre sono sbagliate.  \n",
      ". la spiegazione del perchè la prima risposta è vera, considerando il testo dell'articolo.\n",
      "Le risposte sbagliate contengono informazioni plausibili ma in contrasto o non consistenti con quanto scritto nell'articolo.\n",
      "\n",
      "Il risultato deve essere formattato in JSon, come di seguito.\n",
      "Il campo question contiene la domanda, il campo answers contiene la lista delle possibili risposte.\n",
      "Genera sempre tre possibili risposte alla domanda.\n",
      "\n",
      "Esempio del formato della risposta:\n",
      "\n",
      "{\n",
      "  \"question\": \"Domanda\",\n",
      "  \"answers\": [\"Risposta 1\", \"Risposta 2\", \"Risposta 3\"],\n",
      "  \"explanation\": \"Spiegazione del perche' la prima risposta è vera.\"\n",
      "}\n",
      "\n",
      "\n",
      "Nel formulare la domanda e le risposte, utilizza solamente il titolo e testo dell'articolo, non introdurre altre informazioni estranee ad esso o inventate. Genera solamente Json valido.\n",
      "\n",
      "Esempio di articolo:\n",
      "TITOLO: \n",
      "UBICAZIONE E ORARI DEI CIMITERI\n",
      "\n",
      "TESTO: \n",
      "Il Comune ha inoltre Cimiteri Speciali nelle seguenti frazioni: - Casale Popolo, Terranova, Santa Maria del Tempio, San Germano, Torcello-Rolasco, Roncaglia.  L'orario di apertura al pubblico dei cimiteri viene determinato dal Sindaco a seconda delle stagioni. Nei giorni di neve il cimitero resta chiuso ai visitatori, sino a quando si saranno praticati gli opportuni passaggi ed accessi.\n",
      " \n",
      "Esempio di risposta:\n",
      "{\n",
      "  \"question\": \"Chi decide l'orario di apertura al pubblico dei cimiteri?\",\n",
      "  \"answers\": [\"Il Sindaco, inoltre l'orario dipende dalle stagioni\", \"Il consiglio comunale ad ogni inizio anno, riunito in seduta plenaria\", \"L'assessore ai lavori pubblici, tramite referendum che coinvolge i cittadini\"],\n",
      "  \"explanation\":\"L'articolo specifica che l'orario di apertura al pubblico dei cimiteri viene determinato dal Sindaco a seconda delle stagioni.\"\n",
      "}\n",
      "\n",
      "Di seguito l'articolo su cui devi generare il risultato:\n",
      "---\n",
      "TITOLO: Durata delle Concessioni e Obblighi dei Concessionari\n",
      "\n",
      "TESTO:  1. Le sepolture private si distinguono in tre categorie:\n",
      "   a) Tombe di famiglia o edicole funerarie costruite nelle aree all’uopo assegnate;\n",
      "   b) Tombini individuali (semplici o doppi) siti nelle aree a ciò destinate;\n",
      "   c) Loculi nei casellari comunali.\n",
      "2. Quelle di cui ai punti a) e b) avranno la durata di anni 99 anni, salvo rinnovo.\n",
      "3. Quelle di cui al punto c) avranno la durata fissata al successivo art. 51.\n",
      "4. Resta ferma la durata delle concessioni per le sepolture di cui ai punti a), b) e c), comma 1 del presente articolo, rilasciate precedentemente alla data di entrata in vigore del vigente regolamento.\n",
      "5. I concessionari sono obbligati a fare le riparazioni necessarie affinché i monumenti sepolcrali, in ogni loro parte, non vadano in rovina.\n",
      "6. Accadendo che un sepolcreto privato si trovi in stato di abbandono, i concessionari o loro aventi causa dovranno provvedere al restauro entro dodici mesi dalla data della notificazione della diffida.\n",
      "7. Nel caso di irreperibilità dei concessionari od aventi causa, la diffida stessa verrà pubblicata all’Albo Pretorio per 30 giorni.\n",
      "8. Trascorso infruttuoso il termine concesso per il restauro, si applica l’art. 37.\n",
      "\n"
     ]
    }
   ],
   "source": [
    "if document.numArticles>0 :\n",
    "    indxArticle = random.randint(0, document.numArticles-1)\n",
    "    article = document.article(indxArticle)\n",
    "\n",
    "    arguments= {'title':article.title, 'text':article.text}\n",
    "    prompt= copy.copy(promptTemplate)\n",
    "    prompt += f'TITOLO: { article.title}\\n\\n' \n",
    "    prompt += f'TESTO:  { article.text}\\n' \n",
    "    print(prompt)"
   ]
  },
  {
   "cell_type": "code",
   "execution_count": 34,
   "id": "40364236-8cdc-408b-8d7d-0f1f386e2c50",
   "metadata": {},
   "outputs": [
    {
     "name": "stdout",
     "output_type": "stream",
     "text": [
      "{'question': 'Cosa accade ad una salma non mineralizzata al momento '\n",
      "             \"dell'esumazione o estumulazione per scadenza della concessione?\",\n",
      " 'answers': ['Viene inumata nel campo comune, con la provvista di un eventuale '\n",
      "             'altro feretro a carico degli interessati.',\n",
      "             \"Viene cremata a spese del comune e le ceneri disperse in un'area \"\n",
      "             'apposita.',\n",
      "             'Viene tumulata nuovamente nello stesso loculo per un periodo '\n",
      "             'massimo di 5 anni, a spese del comune.'],\n",
      " 'explanation': \"Il comma 1 dell'articolo specifica che se la salma non è \"\n",
      "                \"ridotta allo stato osseo al momento dell'esumazione o \"\n",
      "                \"dell'estumulazione per scadenza della concessione, essa sarà \"\n",
      "                'inumata nel campo comune, con la provvista di un eventuale '\n",
      "                'altro feretro a carico degli interessati.'}\n"
     ]
    }
   ],
   "source": [
    "from langchain_google_genai import ChatGoogleGenerativeAI\n",
    "modelName=\"gemini-2.0-flash\"\n",
    "\n",
    "maxOutputTokens=8192\n",
    "temperature=1.0\n",
    "\n",
    "llm = ChatGoogleGenerativeAI(model=modelName, \n",
    "                             max_output_tokens=maxOutputTokens, \n",
    "                             temperature=temperature)\n",
    "\n",
    "if document.numArticles>0 :\n",
    "    indxArticle = random.randint(0, document.numArticles-1)\n",
    "    article = document.article(indxArticle)\n",
    "\n",
    "    arguments= {'title':article.title, 'text':article.text}\n",
    "    prompt= copy.copy(promptTemplate)\n",
    "    prompt += f'TITOLO: { article.title}\\n\\n' \n",
    "    prompt += f'TESTO:  { article.text}\\n' \n",
    "    result = llm.invoke(prompt)\n",
    "    # pprint.pp(result.content)\n",
    "    \n",
    "    # print(result)\n",
    "    textContent= str(result.content)\n",
    "    if textContent.startswith(\"```json\"):        \n",
    "        textContent= textContent.replace(\"```json\", \"\", 1)\n",
    "    if textContent.endswith(\"```\"):\n",
    "        textContent= textContent[0:-3]\n",
    "    # print(textContent)    \n",
    "    try:\n",
    "        parsedResult = json.loads( textContent)\n",
    "        pprint.pp(parsedResult)\n",
    "    except json.JSONDecodeError as e:\n",
    "        print(f\"Error parsing JSON: {e}\")\n"
   ]
  }
 ],
 "metadata": {
  "kernelspec": {
   "display_name": "Python 3 (ipykernel)",
   "language": "python",
   "name": "python3"
  },
  "language_info": {
   "codemirror_mode": {
    "name": "ipython",
    "version": 3
   },
   "file_extension": ".py",
   "mimetype": "text/x-python",
   "name": "python",
   "nbconvert_exporter": "python",
   "pygments_lexer": "ipython3",
   "version": "3.10.12"
  }
 },
 "nbformat": 4,
 "nbformat_minor": 5
}
